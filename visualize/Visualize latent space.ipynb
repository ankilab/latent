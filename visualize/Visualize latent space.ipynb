{
 "cells": [
  {
   "cell_type": "code",
   "execution_count": 1,
   "id": "c714e12f",
   "metadata": {},
   "outputs": [],
   "source": [
    "from tensorflow.keras.models import load_model\n",
    "import numpy as np\n",
    "import flammkuchen as fl\n",
    "import matplotlib.pyplot as plt\n",
    "import imageio as io\n",
    "from glob import glob\n",
    "from tqdm.notebook import tqdm\n",
    "from ipywidgets import interact\n",
    "from skimage.draw import disk"
   ]
  },
  {
   "cell_type": "markdown",
   "id": "c4cad2af",
   "metadata": {},
   "source": [
    "# Create decoder\n",
    "\n",
    "Load pre-trained model and set the weights for decoding only"
   ]
  },
  {
   "cell_type": "code",
   "execution_count": 2,
   "id": "447ba2ca",
   "metadata": {},
   "outputs": [],
   "source": [
    "m = load_model(r\"C:/BAGLS/Latent_space_image_model.h5\", compile=False)"
   ]
  },
  {
   "cell_type": "code",
   "execution_count": 3,
   "id": "0f5362d0",
   "metadata": {},
   "outputs": [],
   "source": [
    "from Decoder import Decoder"
   ]
  },
  {
   "cell_type": "code",
   "execution_count": 4,
   "id": "66797a76",
   "metadata": {},
   "outputs": [
    {
     "name": "stdout",
     "output_type": "stream",
     "text": [
      "\n"
     ]
    }
   ],
   "source": [
    "d = Decoder()\n",
    "i = 0\n",
    "\n",
    "for l1, l2 in zip(d.layers[1:],  m.layers[-len(d.layers)+1:]):\n",
    "    try:\n",
    "        l1.set_weights(l2.get_weights())\n",
    "    except Exception as e:\n",
    "        print(e)\n",
    "        \n",
    "    i += 1\n",
    "    \n",
    "print()\n"
   ]
  },
  {
   "cell_type": "markdown",
   "id": "ead06326",
   "metadata": {},
   "source": [
    "# Visualize glottal encoding"
   ]
  },
  {
   "cell_type": "markdown",
   "id": "5ea75d96",
   "metadata": {},
   "source": [
    "This tool shows the effect on $\\alpha$ (glottis refining) and $\\gamma$ (glottis defining) pixels and their interplay"
   ]
  },
  {
   "cell_type": "code",
   "execution_count": 5,
   "id": "0329d55d",
   "metadata": {},
   "outputs": [
    {
     "data": {
      "application/vnd.jupyter.widget-view+json": {
       "model_id": "eb552e9eaa6348cda9a0424d06b845a7",
       "version_major": 2,
       "version_minor": 0
      },
      "text/plain": [
       "interactive(children=(FloatSlider(value=0.1, description='alpha', max=1.1), FloatSlider(value=1.0, description…"
      ]
     },
     "metadata": {},
     "output_type": "display_data"
    }
   ],
   "source": [
    "@interact\n",
    "def glottal_encoding(alpha:(0.0, 1.1)=0.1, gamma:(0.1, 1.1)=1.0):\n",
    "    fake_latent = np.ones((32,16)) * 0.8  # beta pixels\n",
    "    fake_latent[12:25,7:11] = alpha\n",
    "    fake_latent[13:24,8:10] = gamma\n",
    "\n",
    "    to_seg = d.predict(fake_latent[None, ..., None]).squeeze()\n",
    "\n",
    "    fig = plt.figure(figsize=(12,4))\n",
    "    plt.subplot(131)\n",
    "    plt.scatter(alpha, gamma, s=100, c='r')\n",
    "    plt.title(\"Glottal encoding\")\n",
    "    plt.xlim([0., 1.2])\n",
    "    plt.ylim([0., 1.2])\n",
    "    plt.xlabel(\"Value surrounding\")\n",
    "    plt.ylabel(\"Value glottis\")\n",
    "    plt.grid(True)\n",
    "    \n",
    "    plt.subplot(132)\n",
    "    plt.imshow(fake_latent, cmap='PuOr', vmin=0, vmax=1.2)\n",
    "    plt.colorbar()\n",
    "    plt.title(\"Latent space\")\n",
    "    plt.subplot(133)\n",
    "    plt.imshow(to_seg, cmap='gray')\n",
    "    plt.title(\"Reconstruction\")\n"
   ]
  },
  {
   "cell_type": "markdown",
   "id": "aae4ce77",
   "metadata": {},
   "source": [
    "# Spatial glottis definition"
   ]
  },
  {
   "cell_type": "markdown",
   "id": "30d3baa1",
   "metadata": {},
   "source": [
    "Here you can see how $\\gamma$ pixels in the latent space are reconstructed. Note the artifacts with values >1.5."
   ]
  },
  {
   "cell_type": "code",
   "execution_count": 6,
   "id": "5ef53d7c",
   "metadata": {},
   "outputs": [
    {
     "data": {
      "application/vnd.jupyter.widget-view+json": {
       "model_id": "e2defbbe18ea4eb5b9748a91df3e47e2",
       "version_major": 2,
       "version_minor": 0
      },
      "text/plain": [
       "interactive(children=(IntSlider(value=13, description='i', max=31), IntSlider(value=9, description='j', max=15…"
      ]
     },
     "metadata": {},
     "output_type": "display_data"
    }
   ],
   "source": [
    "@interact\n",
    "def showChange(i:(0,31)=13, j:(0,15)=9, val:(0.,6.)=1.2, radius:(0,5,.1)=2):\n",
    "    l = np.zeros((32,16))\n",
    "    rr, cc = disk((i,j), radius, shape=l.shape)\n",
    "    l[rr, cc] = val\n",
    "    \n",
    "    pred = d.predict(l[None,...,None]).squeeze()\n",
    "    \n",
    "    fig = plt.figure(figsize=(9,5))\n",
    "    plt.subplot(121)\n",
    "    plt.imshow(l, vmin=0, vmax=6, cmap='PuOr')\n",
    "    plt.colorbar()\n",
    "    plt.xlabel(\"X\")\n",
    "    plt.ylabel(\"Y\")\n",
    "    plt.title(r\"Latent space image $\\Psi_1$\")\n",
    "    plt.subplot(122)\n",
    "    plt.imshow(pred, cmap='gray')\n",
    "    plt.title(\"Reconstruction\")\n",
    "    plt.xlabel(\"X\")\n",
    "    plt.ylabel(\"Y\")\n",
    "    plt.suptitle(f\"location: {i,j}, value={val:.1f}, radius={radius:.1f}\", y=.95)\n",
    "    plt.tight_layout()"
   ]
  },
  {
   "cell_type": "markdown",
   "id": "30bcc912",
   "metadata": {},
   "source": [
    "# Test image"
   ]
  },
  {
   "cell_type": "code",
   "execution_count": 7,
   "id": "ebb7d39a",
   "metadata": {},
   "outputs": [],
   "source": [
    "im = io.imread(r\"8.png\") # From BAGLS training dataset\n",
    "im = im / 127.5 - 1\n",
    "reconstruction, latent = m.predict(im[None, ..., None])"
   ]
  },
  {
   "cell_type": "code",
   "execution_count": 8,
   "id": "8939ce3d",
   "metadata": {},
   "outputs": [
    {
     "data": {
      "text/plain": [
       "<matplotlib.image.AxesImage at 0x275a9840220>"
      ]
     },
     "execution_count": 8,
     "metadata": {},
     "output_type": "execute_result"
    },
    {
     "data": {
      "image/png": "[encoded data removed]",
      "text/plain": [
       "<Figure size 432x288 with 2 Axes>"
      ]
     },
     "metadata": {
      "needs_background": "light"
     },
     "output_type": "display_data"
    }
   ],
   "source": [
    "plt.figure()\n",
    "plt.subplot(121)\n",
    "plt.title(\"Latent space image $\\Psi_1$\")\n",
    "plt.imshow(latent.squeeze(), cmap='inferno')\n",
    "\n",
    "plt.subplot(122)\n",
    "plt.title(\"Reconstruction\\nSegmentation\")\n",
    "plt.imshow(reconstruction.squeeze(), cmap='gray')"
   ]
  },
  {
   "cell_type": "code",
   "execution_count": null,
   "id": "235088a2",
   "metadata": {},
   "outputs": [],
   "source": []
  }
 ],
 "metadata": {
  "kernelspec": {
   "display_name": "Python 3",
   "language": "python",
   "name": "python3"
  },
  "language_info": {
   "codemirror_mode": {
    "name": "ipython",
    "version": 3
   },
   "file_extension": ".py",
   "mimetype": "text/x-python",
   "name": "python",
   "nbconvert_exporter": "python",
   "pygments_lexer": "ipython3",
   "version": "3.8.8"
  },
  "widgets": {
   "application/vnd.jupyter.widget-state+json": {
    "state": {
     "14fd1e2330914894bc82c4c5c70ce912": {
      "model_module": "@jupyter-widgets/controls",
      "model_module_version": "1.5.0",
      "model_name": "FloatSliderModel",
      "state": {
       "description": "val",
       "layout": "IPY_MODEL_ebdb27472d04447ca54b89af7a3812c8",
       "max": 6,
       "step": 0.1,
       "style": "IPY_MODEL_18ed2cd08fa04dd2bf3ef5f9b5801be9",
       "value": 1.2
      }
     },
     "18ed2cd08fa04dd2bf3ef5f9b5801be9": {
      "model_module": "@jupyter-widgets/controls",
      "model_module_version": "1.5.0",
      "model_name": "SliderStyleModel",
      "state": {
       "description_width": ""
      }
     },
     "193f54172d7645d6b27aaaa83cc1cc15": {
      "model_module": "@jupyter-widgets/base",
      "model_module_version": "1.2.0",
      "model_name": "LayoutModel",
      "state": {}
     },
     "25ae09b748b048039e1450324cbc67bc": {
      "model_module": "@jupyter-widgets/controls",
      "model_module_version": "1.5.0",
      "model_name": "FloatSliderModel",
      "state": {
       "description": "radius",
       "layout": "IPY_MODEL_5a6220932c294e0c8400a319aba775fb",
       "max": 5,
       "step": 0.1,
       "style": "IPY_MODEL_f1dd5642ab654f43a1e1d1660711c69d",
       "value": 2
      }
     },
     "4a20cdf37ace46f4b48499846a5831b2": {
      "model_module": "@jupyter-widgets/output",
      "model_module_version": "1.0.0",
      "model_name": "OutputModel",
      "state": {
       "layout": "IPY_MODEL_61a01846d03d41e0a6201fcd23862e3c",
       "outputs": [
        {
         "data": {
          "image/png": "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\n",
          "text/plain": "<Figure size 648x360 with 3 Axes>"
         },
         "metadata": {
          "needs_background": "light"
         },
         "output_type": "display_data"
        }
       ]
      }
     },
     "521d225c3b9f4bb0b2ed0039078cbf25": {
      "model_module": "@jupyter-widgets/base",
      "model_module_version": "1.2.0",
      "model_name": "LayoutModel",
      "state": {}
     },
     "52fb7277320f4464a16415dce2743806": {
      "model_module": "@jupyter-widgets/base",
      "model_module_version": "1.2.0",
      "model_name": "LayoutModel",
      "state": {}
     },
     "550fb6f5c2ed44e1bea70124b6f735d3": {
      "model_module": "@jupyter-widgets/controls",
      "model_module_version": "1.5.0",
      "model_name": "SliderStyleModel",
      "state": {
       "description_width": ""
      }
     },
     "5a6220932c294e0c8400a319aba775fb": {
      "model_module": "@jupyter-widgets/base",
      "model_module_version": "1.2.0",
      "model_name": "LayoutModel",
      "state": {}
     },
     "61a01846d03d41e0a6201fcd23862e3c": {
      "model_module": "@jupyter-widgets/base",
      "model_module_version": "1.2.0",
      "model_name": "LayoutModel",
      "state": {}
     },
     "6eb019d2e63442189c65072e58cf3f81": {
      "model_module": "@jupyter-widgets/base",
      "model_module_version": "1.2.0",
      "model_name": "LayoutModel",
      "state": {}
     },
     "71cddb7cf18e4d4d952bec701d9f5612": {
      "model_module": "@jupyter-widgets/controls",
      "model_module_version": "1.5.0",
      "model_name": "SliderStyleModel",
      "state": {
       "description_width": ""
      }
     },
     "7490baa570934d3b9aabb8613137d3c3": {
      "model_module": "@jupyter-widgets/controls",
      "model_module_version": "1.5.0",
      "model_name": "FloatSliderModel",
      "state": {
       "description": "gamma",
       "layout": "IPY_MODEL_6eb019d2e63442189c65072e58cf3f81",
       "max": 1.1,
       "min": 0.1,
       "step": 0.1,
       "style": "IPY_MODEL_550fb6f5c2ed44e1bea70124b6f735d3",
       "value": 1
      }
     },
     "78214519466e47b9a9035a4de50e8a82": {
      "model_module": "@jupyter-widgets/controls",
      "model_module_version": "1.5.0",
      "model_name": "SliderStyleModel",
      "state": {
       "description_width": ""
      }
     },
     "88295dd8cde84b25a14a86fe327e7fbc": {
      "model_module": "@jupyter-widgets/controls",
      "model_module_version": "1.5.0",
      "model_name": "SliderStyleModel",
      "state": {
       "description_width": ""
      }
     },
     "9d872108cf17499b85843d563dc3257f": {
      "model_module": "@jupyter-widgets/base",
      "model_module_version": "1.2.0",
      "model_name": "LayoutModel",
      "state": {}
     },
     "a0056b02d99546d6802a6f2501fbdd06": {
      "model_module": "@jupyter-widgets/controls",
      "model_module_version": "1.5.0",
      "model_name": "FloatSliderModel",
      "state": {
       "description": "alpha",
       "layout": "IPY_MODEL_193f54172d7645d6b27aaaa83cc1cc15",
       "max": 1.1,
       "step": 0.1,
       "style": "IPY_MODEL_78214519466e47b9a9035a4de50e8a82",
       "value": 0.1
      }
     },
     "a240c7b996974a23a0c9d10823edc019": {
      "model_module": "@jupyter-widgets/output",
      "model_module_version": "1.0.0",
      "model_name": "OutputModel",
      "state": {
       "layout": "IPY_MODEL_52fb7277320f4464a16415dce2743806",
       "outputs": [
        {
         "data": {
          "image/png": "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\n",
          "text/plain": "<Figure size 864x288 with 4 Axes>"
         },
         "metadata": {
          "needs_background": "light"
         },
         "output_type": "display_data"
        }
       ]
      }
     },
     "cb16cad0d1164bfbbc327abc0163412f": {
      "model_module": "@jupyter-widgets/controls",
      "model_module_version": "1.5.0",
      "model_name": "IntSliderModel",
      "state": {
       "description": "i",
       "layout": "IPY_MODEL_d1681ab8af69427fbf2054057c0411a3",
       "max": 31,
       "style": "IPY_MODEL_88295dd8cde84b25a14a86fe327e7fbc",
       "value": 13
      }
     },
     "d1681ab8af69427fbf2054057c0411a3": {
      "model_module": "@jupyter-widgets/base",
      "model_module_version": "1.2.0",
      "model_name": "LayoutModel",
      "state": {}
     },
     "e2cbd36a04cc4843ba35cf9b6ef50a88": {
      "model_module": "@jupyter-widgets/controls",
      "model_module_version": "1.5.0",
      "model_name": "IntSliderModel",
      "state": {
       "description": "j",
       "layout": "IPY_MODEL_e5e0d48b28d74c4fab94e87680474cd2",
       "max": 15,
       "style": "IPY_MODEL_71cddb7cf18e4d4d952bec701d9f5612",
       "value": 9
      }
     },
     "e2defbbe18ea4eb5b9748a91df3e47e2": {
      "model_module": "@jupyter-widgets/controls",
      "model_module_version": "1.5.0",
      "model_name": "VBoxModel",
      "state": {
       "_dom_classes": [
        "widget-interact"
       ],
       "children": [
        "IPY_MODEL_cb16cad0d1164bfbbc327abc0163412f",
        "IPY_MODEL_e2cbd36a04cc4843ba35cf9b6ef50a88",
        "IPY_MODEL_14fd1e2330914894bc82c4c5c70ce912",
        "IPY_MODEL_25ae09b748b048039e1450324cbc67bc",
        "IPY_MODEL_4a20cdf37ace46f4b48499846a5831b2"
       ],
       "layout": "IPY_MODEL_9d872108cf17499b85843d563dc3257f"
      }
     },
     "e5e0d48b28d74c4fab94e87680474cd2": {
      "model_module": "@jupyter-widgets/base",
      "model_module_version": "1.2.0",
      "model_name": "LayoutModel",
      "state": {}
     },
     "eb552e9eaa6348cda9a0424d06b845a7": {
      "model_module": "@jupyter-widgets/controls",
      "model_module_version": "1.5.0",
      "model_name": "VBoxModel",
      "state": {
       "_dom_classes": [
        "widget-interact"
       ],
       "children": [
        "IPY_MODEL_a0056b02d99546d6802a6f2501fbdd06",
        "IPY_MODEL_7490baa570934d3b9aabb8613137d3c3",
        "IPY_MODEL_a240c7b996974a23a0c9d10823edc019"
       ],
       "layout": "IPY_MODEL_521d225c3b9f4bb0b2ed0039078cbf25"
      }
     },
     "ebdb27472d04447ca54b89af7a3812c8": {
      "model_module": "@jupyter-widgets/base",
      "model_module_version": "1.2.0",
      "model_name": "LayoutModel",
      "state": {}
     },
     "f1dd5642ab654f43a1e1d1660711c69d": {
      "model_module": "@jupyter-widgets/controls",
      "model_module_version": "1.5.0",
      "model_name": "SliderStyleModel",
      "state": {
       "description_width": ""
      }
     }
    },
    "version_major": 2,
    "version_minor": 0
   }
  }
 },
 "nbformat": 4,
 "nbformat_minor": 5
}
