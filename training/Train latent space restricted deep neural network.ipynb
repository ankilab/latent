{
 "cells": [
  {
   "cell_type": "markdown",
   "metadata": {},
   "source": [
    "# Training latent space restricted U-Net on BAGLS dataset"
   ]
  },
  {
   "cell_type": "markdown",
   "metadata": {},
   "source": [
    "Load needed components"
   ]
  },
  {
   "cell_type": "code",
   "execution_count": null,
   "metadata": {},
   "outputs": [],
   "source": [
    "%load_ext autoreload\n",
    "%autoreload 2\n",
    "\n",
    "import numpy as np\n",
    "import tensorflow as tf\n",
    "import random\n",
    "import json\n",
    "\n",
    "# Splitting train and validation data\n",
    "from sklearn.model_selection import train_test_split\n",
    "\n",
    "# Loss and evaluation metric\n",
    "from segmentation_models.losses import dice_loss\n",
    "from segmentation_models.metrics import iou_score\n",
    "from tensorflow.keras.optimizers import Adam"
   ]
  },
  {
   "cell_type": "markdown",
   "metadata": {},
   "source": [
    "## Data pre-processing and dynamic feeding"
   ]
  },
  {
   "cell_type": "markdown",
   "metadata": {},
   "source": [
    "We use a [data generator](https://stanford.edu/~shervine/blog/keras-how-to-generate-data-on-the-fly) to provide images on the fly during training and to parallelize the data pre-processing (e.g. image augmentation). We resized the `BAGLS` dataset to 512$\\times$256 px prior to training"
   ]
  },
  {
   "cell_type": "code",
   "execution_count": null,
   "metadata": {},
   "outputs": [],
   "source": [
    "from DataGenerator import DataGenerator512x256"
   ]
  },
  {
   "cell_type": "markdown",
   "metadata": {},
   "source": [
    "## Load neural network components and build U-Net"
   ]
  },
  {
   "cell_type": "code",
   "execution_count": null,
   "metadata": {},
   "outputs": [],
   "source": [
    "from Unet import Unet"
   ]
  },
  {
   "cell_type": "markdown",
   "metadata": {},
   "source": [
    "Define Images"
   ]
  },
  {
   "cell_type": "code",
   "execution_count": null,
   "metadata": {},
   "outputs": [],
   "source": [
    "# Location of the training data and path to the saved model\n",
    "TRAINING_PATH = \"C:/BAGLS/training_512x256/\"\n",
    "\n",
    "# All training images\n",
    "N = 55750 \n",
    "\n",
    "train_imgs = [TRAINING_PATH + str(i) + \".png\" for i in range(N)]\n",
    "train_segs = [TRAINING_PATH + str(i) + \"_seg.png\" for i in range(N)]"
   ]
  },
  {
   "cell_type": "markdown",
   "metadata": {},
   "source": [
    "# Train "
   ]
  },
  {
   "cell_type": "code",
   "execution_count": null,
   "metadata": {},
   "outputs": [],
   "source": [
    "# Define model and check its summary\n",
    "model = Unet()\n",
    "model.summary()"
   ]
  },
  {
   "cell_type": "code",
   "execution_count": null,
   "metadata": {
    "scrolled": true
   },
   "outputs": [],
   "source": [
    "# Set random seed for reproducible training\n",
    "SEED = 42\n",
    "np.random.seed(SEED)\n",
    "random.seed(SEED)\n",
    "\n",
    "BATCH_SIZE = 32 # adjust for your graphics card\n",
    "\n",
    "LEARNING_RATE = 1e-3\n",
    "EPOCHS = 25\n",
    "\n",
    "# Hard split of training and validation data\n",
    "X, X_val, y, y_val = train_test_split(train_imgs,\n",
    "                              train_segs,\n",
    "                              test_size=0.05,\n",
    "                              random_state=SEED)\n",
    "\n",
    "# Augment and shuffle training data\n",
    "train_gen = DataGenerator512x256(X,\n",
    "                          y,\n",
    "                          BATCH_SIZE, \n",
    "                          augment=True, \n",
    "                          shuffle=True)\n",
    "\n",
    "# Do not augment and shuffle validation data\n",
    "val_gen = DataGenerator512x256(X_val, \n",
    "                        y_val, \n",
    "                        BATCH_SIZE, \n",
    "                        augment=False, \n",
    "                        shuffle=False)\n",
    "\n",
    "\n",
    "# Compile model with optimizer\n",
    "#  and DICE loss\n",
    "model.compile(optimizer=Adam(LEARNING_RATE),\n",
    "              loss = dice_loss,\n",
    "              metrics = ['accuracy',\n",
    "                         iou_score])\n",
    "\n",
    "history = model.fit(\n",
    "        # Training generator (with shuffling and augmentation)\n",
    "        train_gen,\n",
    "        # Validation generator (no shuffling and augmentation)\n",
    "        validation_data=val_gen,\n",
    "        # Train for EPOCHS \n",
    "        epochs=EPOCHS)"
   ]
  },
  {
   "cell_type": "code",
   "execution_count": null,
   "metadata": {},
   "outputs": [],
   "source": []
  }
 ],
 "metadata": {
  "kernelspec": {
   "display_name": "Python 3",
   "language": "python",
   "name": "python3"
  },
  "language_info": {
   "codemirror_mode": {
    "name": "ipython",
    "version": 3
   },
   "file_extension": ".py",
   "mimetype": "text/x-python",
   "name": "python",
   "nbconvert_exporter": "python",
   "pygments_lexer": "ipython3",
   "version": "3.8.8"
  }
 },
 "nbformat": 4,
 "nbformat_minor": 2
}
