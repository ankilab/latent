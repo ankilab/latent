{
 "cells": [
  {
   "cell_type": "markdown",
   "id": "acfadc10",
   "metadata": {},
   "source": [
    "Generate training data for decoder training"
   ]
  },
  {
   "cell_type": "code",
   "execution_count": 1,
   "id": "eaa1f163",
   "metadata": {},
   "outputs": [],
   "source": [
    "import numpy as np\n",
    "from tensorflow.keras.models import load_model\n",
    "import imageio as io\n",
    "from tqdm.notebook import tqdm"
   ]
  },
  {
   "cell_type": "markdown",
   "id": "eb6f3067",
   "metadata": {},
   "source": [
    "Load the final model with access to the latent space image"
   ]
  },
  {
   "cell_type": "code",
   "execution_count": 2,
   "id": "49209027",
   "metadata": {},
   "outputs": [],
   "source": [
    "m = load_model(r\"C:\\BAGLS\\Latent_space_image_model.h5\", compile=False)"
   ]
  },
  {
   "cell_type": "markdown",
   "id": "1c910f29",
   "metadata": {},
   "source": [
    "Set the data source for creating the latent space images"
   ]
  },
  {
   "cell_type": "code",
   "execution_count": 3,
   "id": "75c6b2c8",
   "metadata": {},
   "outputs": [],
   "source": [
    "# Location of the training data and path to the saved model\n",
    "TRAINING_PATH = \"C:/BAGLS/training_512x256/\"\n",
    "DESTINATION_PATH = \"C:/BAGLS/latent\"\n",
    "\n",
    "# All training images\n",
    "N = 55750 \n",
    "\n",
    "train_imgs = [TRAINING_PATH + str(i) + \".png\" for i in range(N)]\n",
    "train_segs = [TRAINING_PATH + str(i) + \"_seg.png\" for i in range(N)]"
   ]
  },
  {
   "cell_type": "markdown",
   "id": "ecc98cd6",
   "metadata": {},
   "source": [
    "Compute the latent space images"
   ]
  },
  {
   "cell_type": "code",
   "execution_count": 4,
   "id": "363463c4",
   "metadata": {},
   "outputs": [
    {
     "data": {
      "application/vnd.jupyter.widget-view+json": {
       "model_id": "6ef8e9ea10d14faebdd09b4ed8c4b3c5",
       "version_major": 2,
       "version_minor": 0
      },
      "text/plain": [
       "  0%|          | 0/55750 [00:00<?, ?it/s]"
      ]
     },
     "metadata": {},
     "output_type": "display_data"
    },
    {
     "name": "stdout",
     "output_type": "stream",
     "text": [
      "Next batch! 55749\r"
     ]
    }
   ],
   "source": [
    "tmp = []\n",
    "latents = []\n",
    "\n",
    "batch = 128\n",
    "\n",
    "for i, fn in enumerate(tqdm(train_imgs)):\n",
    "    im = np.asarray(io.imread(fn), dtype=np.float32) \n",
    "    \n",
    "    if len(im.shape) == 3:\n",
    "        print(\"Color!\", end=\"\\r\")\n",
    "        im = im @ (0.3, 0.59, 0.11)\n",
    "        \n",
    "    im = im / 127.5 - 1\n",
    "    \n",
    "    tmp.append(im)\n",
    "    \n",
    "    if i % batch == batch-1:\n",
    "        tmp = np.asarray(tmp)\n",
    "        print(f\"Next batch! {i}\", end=\"\\r\")\n",
    "        _, l = m.predict(tmp[..., None])\n",
    "        \n",
    "        latents.extend(l.squeeze())\n",
    "        tmp = []\n",
    "        \n",
    "tmp = np.asarray(tmp)\n",
    "print(f\"Next batch! {i}\", end=\"\\r\")\n",
    "_, l = m.predict(tmp[..., None])\n",
    "\n",
    "latents.extend(l.squeeze())       \n",
    "        \n",
    "latents = np.asarray(latents)"
   ]
  },
  {
   "cell_type": "code",
   "execution_count": 9,
   "id": "f504ace7",
   "metadata": {},
   "outputs": [],
   "source": [
    "train_latents = [DESTINATION_PATH +\"/\"+ str(i) + \"_latent.png\" for i in range(N)]"
   ]
  },
  {
   "cell_type": "markdown",
   "id": "404bfdf4",
   "metadata": {},
   "source": [
    "We will save the latent space images in `uint8` (see Figure 4)"
   ]
  },
  {
   "cell_type": "code",
   "execution_count": 10,
   "id": "db947e28",
   "metadata": {},
   "outputs": [
    {
     "name": "stdout",
     "output_type": "stream",
     "text": [
      "1.5473969 (55750, 32, 16)\n"
     ]
    }
   ],
   "source": [
    "max_latent = latents.max()\n",
    "\n",
    "print(max_latent, latents.shape)"
   ]
  },
  {
   "cell_type": "code",
   "execution_count": 11,
   "id": "6a523cc7",
   "metadata": {},
   "outputs": [
    {
     "data": {
      "application/vnd.jupyter.widget-view+json": {
       "model_id": "27abbbfdabd14127b50925ee5419c94b",
       "version_major": 2,
       "version_minor": 0
      },
      "text/plain": [
       "  0%|          | 0/55750 [00:00<?, ?it/s]"
      ]
     },
     "metadata": {},
     "output_type": "display_data"
    }
   ],
   "source": [
    "for fn, im in tqdm(zip(train_latents, latents), total=latents.shape[0]):\n",
    "    io.imwrite(fn, (im / max_latent * 255).astype(np.uint8))"
   ]
  },
  {
   "cell_type": "code",
   "execution_count": null,
   "id": "9949cee2",
   "metadata": {},
   "outputs": [],
   "source": []
  }
 ],
 "metadata": {
  "kernelspec": {
   "display_name": "Python 3",
   "language": "python",
   "name": "python3"
  },
  "language_info": {
   "codemirror_mode": {
    "name": "ipython",
    "version": 3
   },
   "file_extension": ".py",
   "mimetype": "text/x-python",
   "name": "python",
   "nbconvert_exporter": "python",
   "pygments_lexer": "ipython3",
   "version": "3.8.8"
  }
 },
 "nbformat": 4,
 "nbformat_minor": 5
}
